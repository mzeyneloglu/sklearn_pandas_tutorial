{
 "cells": [
  {
   "cell_type": "markdown",
   "metadata": {},
   "source": [
    "## Veri Ön İşleme (Sklearn Pandas)\n",
    "\n",
    "Sklearn-Pandas paketini kullanarak verilerinizi çok daha pratik bir şekilde işlemenize yardımcı olacaktır.Elinize gelen veri bir çok açıdan kusurlu olabilmektedir.Bu kusurlar eksik veriler, aykırı değerler yada kendini tekrar eden veriler gibi bir çok şey olabilir.Aynı zaman bu paket ile birlikte ölçeklendirme işlemleri gibi bir çok şeyi aynı anda yapabiliriz.\n",
    "\n",
    "Sklearn-pandas paketinin ne olduğunu nasıl ön işleme adımlarını gerçekleştirebildiğimize bakalım ardından gerçek bir veri seti üzerinde bu adımları gerçekleştiriyor olacağız."
   ]
  },
  {
   "cell_type": "code",
   "execution_count": null,
   "metadata": {},
   "outputs": [],
   "source": [
    "# Kurulum\n",
    "! pip install sklearn-pandas"
   ]
  },
  {
   "cell_type": "markdown",
   "metadata": {},
   "source": [
    "Sklearn-pandas uygulamalarını gerçekleştirebileceğimiz basit bir veri seti oluşturalım ve bunun üzerinde bazı adımları gerçekleştirmeyi deneyelim."
   ]
  },
  {
   "cell_type": "code",
   "execution_count": 2,
   "metadata": {},
   "outputs": [],
   "source": [
    "import pandas as pd\n",
    "import numpy as np\n",
    "import warnings\n",
    "warnings.filterwarnings(\"ignore\")\n",
    "\n",
    "data = pd.DataFrame({'pet':      ['cat', 'dog', 'dog', 'fish', 'cat', 'dog', 'cat', 'fish'],\n",
    "                     'children': [4., 6, 3, 3, 2, 3, 5, 4],\n",
    "                     'salary':   [90., 24, 44, 27, 32, 59, 36, 27]})\n"
   ]
  },
  {
   "cell_type": "markdown",
   "metadata": {},
   "source": [
    "``sklearn-pandas`` içerisinde bulunan **DataFrameMapper** ile birlikte bir pipeline yapısı kurarak verilerimiz üzerinde ön işleme adımları gerçekleştirebiliriz.Ayrı ayrı değişkenler üzerinde veya değişkenleri bir liste halinde vererek üzerinde ön işleme adımı gerçekleştirebiliriz.Peki bu nasıl olacak görelim!"
   ]
  },
  {
   "cell_type": "code",
   "execution_count": 3,
   "metadata": {},
   "outputs": [],
   "source": [
    "from sklearn_pandas import DataFrameMapper\n",
    "from sklearn.preprocessing import LabelBinarizer , StandardScaler\n",
    "\n",
    "mapper = DataFrameMapper([\n",
    "     ('pet', LabelBinarizer()),\n",
    "     (['children'], StandardScaler())])"
   ]
  },
  {
   "cell_type": "code",
   "execution_count": 4,
   "metadata": {},
   "outputs": [
    {
     "data": {
      "text/plain": [
       "array([[ 1.        ,  0.        ,  0.        ,  0.20851441],\n",
       "       [ 0.        ,  1.        ,  0.        ,  1.87662973],\n",
       "       [ 0.        ,  1.        ,  0.        , -0.62554324],\n",
       "       [ 0.        ,  0.        ,  1.        , -0.62554324],\n",
       "       [ 1.        ,  0.        ,  0.        , -1.4596009 ],\n",
       "       [ 0.        ,  1.        ,  0.        , -0.62554324],\n",
       "       [ 1.        ,  0.        ,  0.        ,  1.04257207],\n",
       "       [ 0.        ,  0.        ,  1.        ,  0.20851441]])"
      ]
     },
     "execution_count": 4,
     "metadata": {},
     "output_type": "execute_result"
    }
   ],
   "source": [
    "mapper.fit_transform(data)"
   ]
  },
  {
   "cell_type": "markdown",
   "metadata": {},
   "source": [
    " Veri setlerimiz içerisinde tarih belirten değişkenler oldukça sık karşımıza çıkabiliyor.Bunun gibi durumlarda sklearn-pandas paketinden yararlanabiliriz.Sadece bulunduğumuz veri seti için değil aynı zamanda ilerde karşımıza çıkacak veri setlerindeki tarih formatındaki tüm değişkenlerde uygulabiliriz."
   ]
  },
  {
   "cell_type": "code",
   "execution_count": 5,
   "metadata": {},
   "outputs": [],
   "source": [
    "from sklearn.base import TransformerMixin\n",
    "class DateEncoder(TransformerMixin):\n",
    "    def fit(self, X, y=None):\n",
    "        return self\n",
    "\n",
    "    def transform(self, X):\n",
    "        dt = X.dt\n",
    "        return pd.concat([dt.year, dt.month, dt.day], axis=1)\n",
    "    \n",
    "   \n",
    "dates_df = pd.DataFrame(\n",
    "    {'dates': pd.date_range('2015-10-30', '2015-11-02')})    "
   ]
  },
  {
   "cell_type": "markdown",
   "metadata": {},
   "source": [
    " > DataFrameMapper parametresi olan **input_df** True olarak kabul etmemiz gerekmektedir.Bunun sebebi sklearn transformatörlerin tarihsel değişkenler üzerinde pandas DataFrame ile değil numpy dizileri ile çalışıyor olmasındandır."
   ]
  },
  {
   "cell_type": "code",
   "execution_count": 6,
   "metadata": {},
   "outputs": [
    {
     "data": {
      "text/plain": [
       "array([[2015,   10,   30],\n",
       "       [2015,   10,   31],\n",
       "       [2015,   11,    1],\n",
       "       [2015,   11,    2]], dtype=int64)"
      ]
     },
     "execution_count": 6,
     "metadata": {},
     "output_type": "execute_result"
    }
   ],
   "source": [
    "mapper_dates = DataFrameMapper([\n",
    "     ('dates', DateEncoder())],  input_df=True)\n",
    "\n",
    "mapper_dates.fit_transform(dates_df)"
   ]
  },
  {
   "cell_type": "markdown",
   "metadata": {},
   "source": [
    "Bu zamana kadar yaptığımız ön işlemlerde her zaman numpy dizisi olarak çıktı alımı gerçekleştirdik fakat pandas DataFrame olarak çıktı da elde edebiliriz.Bunun için DataFrameMapper parametresi olan **df_out = True** olarak girmemiz gerekmektedir."
   ]
  },
  {
   "cell_type": "code",
   "execution_count": 7,
   "metadata": {},
   "outputs": [
    {
     "data": {
      "text/html": [
       "<div>\n",
       "<style scoped>\n",
       "    .dataframe tbody tr th:only-of-type {\n",
       "        vertical-align: middle;\n",
       "    }\n",
       "\n",
       "    .dataframe tbody tr th {\n",
       "        vertical-align: top;\n",
       "    }\n",
       "\n",
       "    .dataframe thead th {\n",
       "        text-align: right;\n",
       "    }\n",
       "</style>\n",
       "<table border=\"1\" class=\"dataframe\">\n",
       "  <thead>\n",
       "    <tr style=\"text-align: right;\">\n",
       "      <th></th>\n",
       "      <th>pet_cat</th>\n",
       "      <th>pet_dog</th>\n",
       "      <th>pet_fish</th>\n",
       "      <th>children</th>\n",
       "    </tr>\n",
       "  </thead>\n",
       "  <tbody>\n",
       "    <tr>\n",
       "      <th>0</th>\n",
       "      <td>1</td>\n",
       "      <td>0</td>\n",
       "      <td>0</td>\n",
       "      <td>0.208514</td>\n",
       "    </tr>\n",
       "    <tr>\n",
       "      <th>1</th>\n",
       "      <td>0</td>\n",
       "      <td>1</td>\n",
       "      <td>0</td>\n",
       "      <td>1.876630</td>\n",
       "    </tr>\n",
       "    <tr>\n",
       "      <th>2</th>\n",
       "      <td>0</td>\n",
       "      <td>1</td>\n",
       "      <td>0</td>\n",
       "      <td>-0.625543</td>\n",
       "    </tr>\n",
       "    <tr>\n",
       "      <th>3</th>\n",
       "      <td>0</td>\n",
       "      <td>0</td>\n",
       "      <td>1</td>\n",
       "      <td>-0.625543</td>\n",
       "    </tr>\n",
       "    <tr>\n",
       "      <th>4</th>\n",
       "      <td>1</td>\n",
       "      <td>0</td>\n",
       "      <td>0</td>\n",
       "      <td>-1.459601</td>\n",
       "    </tr>\n",
       "    <tr>\n",
       "      <th>5</th>\n",
       "      <td>0</td>\n",
       "      <td>1</td>\n",
       "      <td>0</td>\n",
       "      <td>-0.625543</td>\n",
       "    </tr>\n",
       "    <tr>\n",
       "      <th>6</th>\n",
       "      <td>1</td>\n",
       "      <td>0</td>\n",
       "      <td>0</td>\n",
       "      <td>1.042572</td>\n",
       "    </tr>\n",
       "    <tr>\n",
       "      <th>7</th>\n",
       "      <td>0</td>\n",
       "      <td>0</td>\n",
       "      <td>1</td>\n",
       "      <td>0.208514</td>\n",
       "    </tr>\n",
       "  </tbody>\n",
       "</table>\n",
       "</div>"
      ],
      "text/plain": [
       "   pet_cat  pet_dog  pet_fish  children\n",
       "0        1        0         0  0.208514\n",
       "1        0        1         0  1.876630\n",
       "2        0        1         0 -0.625543\n",
       "3        0        0         1 -0.625543\n",
       "4        1        0         0 -1.459601\n",
       "5        0        1         0 -0.625543\n",
       "6        1        0         0  1.042572\n",
       "7        0        0         1  0.208514"
      ]
     },
     "execution_count": 7,
     "metadata": {},
     "output_type": "execute_result"
    }
   ],
   "source": [
    "mapper = DataFrameMapper([\n",
    "     ('pet', LabelBinarizer()),\n",
    "     (['children'], StandardScaler())] , df_out=True)\n",
    "mapper.fit_transform(data)"
   ]
  },
  {
   "cell_type": "markdown",
   "metadata": {},
   "source": [
    "Veriler üzerinde ön işleme adımı gerçekleştirirken DataFrameMapper hattı içerisinde veri setinden kaldırılmasını istediğimiz değişkeni belirtebiliriz.Bunun için ``drop_cols = ['col',...]`` argümanını kullanmamız gerekmektedir."
   ]
  },
  {
   "cell_type": "code",
   "execution_count": 8,
   "metadata": {},
   "outputs": [
    {
     "data": {
      "text/html": [
       "<div>\n",
       "<style scoped>\n",
       "    .dataframe tbody tr th:only-of-type {\n",
       "        vertical-align: middle;\n",
       "    }\n",
       "\n",
       "    .dataframe tbody tr th {\n",
       "        vertical-align: top;\n",
       "    }\n",
       "\n",
       "    .dataframe thead th {\n",
       "        text-align: right;\n",
       "    }\n",
       "</style>\n",
       "<table border=\"1\" class=\"dataframe\">\n",
       "  <thead>\n",
       "    <tr style=\"text-align: right;\">\n",
       "      <th></th>\n",
       "      <th>gender_x0_female</th>\n",
       "      <th>gender_x0_male</th>\n",
       "      <th>age</th>\n",
       "    </tr>\n",
       "  </thead>\n",
       "  <tbody>\n",
       "    <tr>\n",
       "      <th>0</th>\n",
       "      <td>0.0</td>\n",
       "      <td>1.0</td>\n",
       "      <td>0.038462</td>\n",
       "    </tr>\n",
       "    <tr>\n",
       "      <th>1</th>\n",
       "      <td>0.0</td>\n",
       "      <td>1.0</td>\n",
       "      <td>0.102564</td>\n",
       "    </tr>\n",
       "    <tr>\n",
       "      <th>2</th>\n",
       "      <td>1.0</td>\n",
       "      <td>0.0</td>\n",
       "      <td>0.358974</td>\n",
       "    </tr>\n",
       "    <tr>\n",
       "      <th>3</th>\n",
       "      <td>0.0</td>\n",
       "      <td>1.0</td>\n",
       "      <td>0.230769</td>\n",
       "    </tr>\n",
       "    <tr>\n",
       "      <th>4</th>\n",
       "      <td>1.0</td>\n",
       "      <td>0.0</td>\n",
       "      <td>0.551282</td>\n",
       "    </tr>\n",
       "    <tr>\n",
       "      <th>5</th>\n",
       "      <td>1.0</td>\n",
       "      <td>0.0</td>\n",
       "      <td>0.846154</td>\n",
       "    </tr>\n",
       "    <tr>\n",
       "      <th>6</th>\n",
       "      <td>0.0</td>\n",
       "      <td>1.0</td>\n",
       "      <td>0.000000</td>\n",
       "    </tr>\n",
       "    <tr>\n",
       "      <th>7</th>\n",
       "      <td>1.0</td>\n",
       "      <td>0.0</td>\n",
       "      <td>1.000000</td>\n",
       "    </tr>\n",
       "  </tbody>\n",
       "</table>\n",
       "</div>"
      ],
      "text/plain": [
       "   gender_x0_female  gender_x0_male       age\n",
       "0               0.0             1.0  0.038462\n",
       "1               0.0             1.0  0.102564\n",
       "2               1.0             0.0  0.358974\n",
       "3               0.0             1.0  0.230769\n",
       "4               1.0             0.0  0.551282\n",
       "5               1.0             0.0  0.846154\n",
       "6               0.0             1.0  0.000000\n",
       "7               1.0             0.0  1.000000"
      ]
     },
     "execution_count": 8,
     "metadata": {},
     "output_type": "execute_result"
    }
   ],
   "source": [
    "from sklearn.preprocessing import OneHotEncoder,MinMaxScaler\n",
    "data= pd.DataFrame({'gender': ['male', 'male', 'female', 'male', 'female', 'female', 'male','female'],\n",
    "                     'age': [15, 20, 40, 30, 55, 78, 12, 90],\n",
    "                     'salary':   [1200, 3000, 4400, 2700, 3200, 5900, 1000,4000 ]})\n",
    "\n",
    "mapper = DataFrameMapper([(['gender'], OneHotEncoder()),\n",
    "                          (['age'] , MinMaxScaler()),\n",
    "                          ], drop_cols=['salary'] , df_out=True)\n",
    "mapper.fit_transform(data)"
   ]
  },
  {
   "cell_type": "markdown",
   "metadata": {},
   "source": [
    "> Bazı ön işleme adımlarında girdi olarka 2 boyutlu almaktadır.Ölçeklendirme işlemleri buna bir örnektir.Bu durumda DateFrameMapper içerisinde değişkenimizi belirtirken liste içerisinde belirtmemiz gerekmektedir."
   ]
  },
  {
   "cell_type": "markdown",
   "metadata": {},
   "source": [
    "Aynı anda birden fazla değişken üzerinde işlemlerimizi uygulayabiliriz.Değişkenlerimizi önceki belirttiğimiz şeklinde tek tek değilde bir liste içerisinde belirterek üzerinde ortak bir işlem gerçekleştirebiliriz."
   ]
  },
  {
   "cell_type": "code",
   "execution_count": 9,
   "metadata": {},
   "outputs": [
    {
     "data": {
      "text/html": [
       "<div>\n",
       "<style scoped>\n",
       "    .dataframe tbody tr th:only-of-type {\n",
       "        vertical-align: middle;\n",
       "    }\n",
       "\n",
       "    .dataframe tbody tr th {\n",
       "        vertical-align: top;\n",
       "    }\n",
       "\n",
       "    .dataframe thead th {\n",
       "        text-align: right;\n",
       "    }\n",
       "</style>\n",
       "<table border=\"1\" class=\"dataframe\">\n",
       "  <thead>\n",
       "    <tr style=\"text-align: right;\">\n",
       "      <th></th>\n",
       "      <th>age_salary</th>\n",
       "    </tr>\n",
       "  </thead>\n",
       "  <tbody>\n",
       "    <tr>\n",
       "      <th>0</th>\n",
       "      <td>-1975.191335</td>\n",
       "    </tr>\n",
       "    <tr>\n",
       "      <th>1</th>\n",
       "      <td>-175.303020</td>\n",
       "    </tr>\n",
       "    <tr>\n",
       "      <th>2</th>\n",
       "      <td>1224.839829</td>\n",
       "    </tr>\n",
       "    <tr>\n",
       "      <th>3</th>\n",
       "      <td>-475.129942</td>\n",
       "    </tr>\n",
       "    <tr>\n",
       "      <th>4</th>\n",
       "      <td>25.175686</td>\n",
       "    </tr>\n",
       "    <tr>\n",
       "      <th>5</th>\n",
       "      <td>2725.229161</td>\n",
       "    </tr>\n",
       "    <tr>\n",
       "      <th>6</th>\n",
       "      <td>-2175.213779</td>\n",
       "    </tr>\n",
       "    <tr>\n",
       "      <th>7</th>\n",
       "      <td>825.593401</td>\n",
       "    </tr>\n",
       "  </tbody>\n",
       "</table>\n",
       "</div>"
      ],
      "text/plain": [
       "    age_salary\n",
       "0 -1975.191335\n",
       "1  -175.303020\n",
       "2  1224.839829\n",
       "3  -475.129942\n",
       "4    25.175686\n",
       "5  2725.229161\n",
       "6 -2175.213779\n",
       "7   825.593401"
      ]
     },
     "execution_count": 9,
     "metadata": {},
     "output_type": "execute_result"
    }
   ],
   "source": [
    "from sklearn.decomposition import PCA\n",
    "mapper2 = DataFrameMapper([\n",
    "     (['age', 'salary'], PCA(n_components=1))\n",
    " ], df_out=True)\n",
    "\n",
    "mapper2.fit_transform(data)"
   ]
  },
  {
   "cell_type": "markdown",
   "metadata": {},
   "source": [
    "Bir liste içerisinde uygulayacağımız transformatörleri belirterek sırası ile sütuna aynı anda işlemler uygulatabiliriz."
   ]
  },
  {
   "cell_type": "code",
   "execution_count": 25,
   "metadata": {},
   "outputs": [
    {
     "data": {
      "text/html": [
       "<div>\n",
       "<style scoped>\n",
       "    .dataframe tbody tr th:only-of-type {\n",
       "        vertical-align: middle;\n",
       "    }\n",
       "\n",
       "    .dataframe tbody tr th {\n",
       "        vertical-align: top;\n",
       "    }\n",
       "\n",
       "    .dataframe thead th {\n",
       "        text-align: right;\n",
       "    }\n",
       "</style>\n",
       "<table border=\"1\" class=\"dataframe\">\n",
       "  <thead>\n",
       "    <tr style=\"text-align: right;\">\n",
       "      <th></th>\n",
       "      <th>age</th>\n",
       "    </tr>\n",
       "  </thead>\n",
       "  <tbody>\n",
       "    <tr>\n",
       "      <th>0</th>\n",
       "      <td>15.0</td>\n",
       "    </tr>\n",
       "    <tr>\n",
       "      <th>1</th>\n",
       "      <td>20.0</td>\n",
       "    </tr>\n",
       "    <tr>\n",
       "      <th>2</th>\n",
       "      <td>NaN</td>\n",
       "    </tr>\n",
       "    <tr>\n",
       "      <th>3</th>\n",
       "      <td>30.0</td>\n",
       "    </tr>\n",
       "    <tr>\n",
       "      <th>4</th>\n",
       "      <td>NaN</td>\n",
       "    </tr>\n",
       "    <tr>\n",
       "      <th>5</th>\n",
       "      <td>78.0</td>\n",
       "    </tr>\n",
       "    <tr>\n",
       "      <th>6</th>\n",
       "      <td>12.0</td>\n",
       "    </tr>\n",
       "    <tr>\n",
       "      <th>7</th>\n",
       "      <td>NaN</td>\n",
       "    </tr>\n",
       "  </tbody>\n",
       "</table>\n",
       "</div>"
      ],
      "text/plain": [
       "    age\n",
       "0  15.0\n",
       "1  20.0\n",
       "2   NaN\n",
       "3  30.0\n",
       "4   NaN\n",
       "5  78.0\n",
       "6  12.0\n",
       "7   NaN"
      ]
     },
     "execution_count": 25,
     "metadata": {},
     "output_type": "execute_result"
    }
   ],
   "source": [
    "data2 = pd.DataFrame({'age': [15, 20, np.nan, 30, np.nan, 78, 12, np.nan]})\n",
    "data2"
   ]
  },
  {
   "cell_type": "markdown",
   "metadata": {},
   "source": [
    "Birden fazla değişken üzerinden aynı işlemleri yapabildiğimiz gibi birden fazla işlemde gerçekleştirebiliriz.Yapacağımız işlemleri bir liste içerisinde tanımlamamız yeterli olacaktır.Unutmayalım ki liste içerisinde işlemleri nasıl tanımlarsanız gerçekleşme sırasıda öyle gerçekleşecektir."
   ]
  },
  {
   "cell_type": "code",
   "execution_count": 11,
   "metadata": {},
   "outputs": [],
   "source": [
    "from sklearn.impute import SimpleImputer\n",
    "transformers = [SimpleImputer() , StandardScaler()]\n",
    "\n",
    "mapper2 = DataFrameMapper([(['age'] , transformers)] ,df_out=True).fit_transform(data2)"
   ]
  },
  {
   "cell_type": "markdown",
   "metadata": {},
   "source": [
    "> *age* sütununa sırası ile önce eksik değerleri doldurma işlemi gerçekleştirip ardından standardizasyon işlemi gerçekleştirmiştir."
   ]
  },
  {
   "cell_type": "markdown",
   "metadata": {},
   "source": [
    "Veri setimiz üzerindeki bazı değişkenler üzerinde herhangi bir işlem uygulanmamasını isteyebiliriz.Bu gibi durumlarda istemediğimiz değişkeni ('col' , **None**) olarak belirtirsek herhangi bir işlem gerçekleşmeyecektir."
   ]
  },
  {
   "cell_type": "code",
   "execution_count": 12,
   "metadata": {},
   "outputs": [
    {
     "data": {
      "text/html": [
       "<div>\n",
       "<style scoped>\n",
       "    .dataframe tbody tr th:only-of-type {\n",
       "        vertical-align: middle;\n",
       "    }\n",
       "\n",
       "    .dataframe tbody tr th {\n",
       "        vertical-align: top;\n",
       "    }\n",
       "\n",
       "    .dataframe thead th {\n",
       "        text-align: right;\n",
       "    }\n",
       "</style>\n",
       "<table border=\"1\" class=\"dataframe\">\n",
       "  <thead>\n",
       "    <tr style=\"text-align: right;\">\n",
       "      <th></th>\n",
       "      <th>age_salary_0</th>\n",
       "      <th>age_salary_1</th>\n",
       "      <th>gender</th>\n",
       "    </tr>\n",
       "  </thead>\n",
       "  <tbody>\n",
       "    <tr>\n",
       "      <th>0</th>\n",
       "      <td>-1.001823</td>\n",
       "      <td>-1.298928</td>\n",
       "      <td>male</td>\n",
       "    </tr>\n",
       "    <tr>\n",
       "      <th>1</th>\n",
       "      <td>-0.819673</td>\n",
       "      <td>-0.115095</td>\n",
       "      <td>male</td>\n",
       "    </tr>\n",
       "    <tr>\n",
       "      <th>2</th>\n",
       "      <td>-0.091075</td>\n",
       "      <td>0.805664</td>\n",
       "      <td>female</td>\n",
       "    </tr>\n",
       "    <tr>\n",
       "      <th>3</th>\n",
       "      <td>-0.455374</td>\n",
       "      <td>-0.312400</td>\n",
       "      <td>male</td>\n",
       "    </tr>\n",
       "    <tr>\n",
       "      <th>4</th>\n",
       "      <td>0.455374</td>\n",
       "      <td>0.016442</td>\n",
       "      <td>female</td>\n",
       "    </tr>\n",
       "    <tr>\n",
       "      <th>5</th>\n",
       "      <td>1.293263</td>\n",
       "      <td>1.792191</td>\n",
       "      <td>female</td>\n",
       "    </tr>\n",
       "    <tr>\n",
       "      <th>6</th>\n",
       "      <td>-1.111113</td>\n",
       "      <td>-1.430465</td>\n",
       "      <td>male</td>\n",
       "    </tr>\n",
       "    <tr>\n",
       "      <th>7</th>\n",
       "      <td>1.730422</td>\n",
       "      <td>0.542590</td>\n",
       "      <td>female</td>\n",
       "    </tr>\n",
       "  </tbody>\n",
       "</table>\n",
       "</div>"
      ],
      "text/plain": [
       "   age_salary_0  age_salary_1  gender\n",
       "0     -1.001823     -1.298928    male\n",
       "1     -0.819673     -0.115095    male\n",
       "2     -0.091075      0.805664  female\n",
       "3     -0.455374     -0.312400    male\n",
       "4      0.455374      0.016442  female\n",
       "5      1.293263      1.792191  female\n",
       "6     -1.111113     -1.430465    male\n",
       "7      1.730422      0.542590  female"
      ]
     },
     "execution_count": 12,
     "metadata": {},
     "output_type": "execute_result"
    }
   ],
   "source": [
    "data3 = pd.DataFrame({'gender': ['male', 'male', 'female', 'male', 'female', 'female', 'male','female'],\n",
    "                     'age': [15, 20, 40, 30, 55, 78, 12, 90],\n",
    "                     'salary':   [1200, 3000, 4400, 2700, 3200, 5900, 1000,4000 ]})\n",
    "\n",
    "mapper3 = DataFrameMapper([(['age' , 'salary'] ,StandardScaler()) , ('gender' , None)], df_out=True)\n",
    "mapper3.fit_transform(data3)"
   ]
  },
  {
   "cell_type": "markdown",
   "metadata": {},
   "source": [
    "DataFrameMapper argüman olarak ``default`` almaktadır.Bu argümana belirtmediğimiz değişkenler üzerinde uygulanmasını istediğimiz işlemleri iletebiliriz."
   ]
  },
  {
   "cell_type": "code",
   "execution_count": 13,
   "metadata": {},
   "outputs": [
    {
     "data": {
      "text/plain": [
       "array([[ 1.        ,  0.        ,  0.        ,  4.        ,  2.27500192],\n",
       "       [ 0.        ,  1.        ,  0.        ,  6.        , -0.87775665],\n",
       "       [ 0.        ,  1.        ,  0.        ,  3.        ,  0.07762474],\n",
       "       [ 0.        ,  0.        ,  1.        ,  3.        , -0.73444944],\n",
       "       [ 1.        ,  0.        ,  0.        ,  2.        , -0.49560409],\n",
       "       [ 0.        ,  1.        ,  0.        ,  3.        ,  0.79416078],\n",
       "       [ 1.        ,  0.        ,  0.        ,  5.        , -0.30452782],\n",
       "       [ 0.        ,  0.        ,  1.        ,  4.        , -0.73444944]])"
      ]
     },
     "execution_count": 13,
     "metadata": {},
     "output_type": "execute_result"
    }
   ],
   "source": [
    "data = pd.DataFrame({'pet':      ['cat', 'dog', 'dog', 'fish', 'cat', 'dog', 'cat', 'fish'],\n",
    "                    'children': [4., 6, 3, 3, 2, 3, 5, 4],\n",
    "                    'salary':   [90., 24, 44, 27, 32, 59, 36, 27]})\n",
    "\n",
    "mapper4 = DataFrameMapper([\n",
    "     (['pet'], LabelBinarizer()),\n",
    "     ('children', None) ],  default=StandardScaler())\n",
    "mapper4.fit_transform(data)"
   ]
  },
  {
   "cell_type": "markdown",
   "metadata": {},
   "source": [
    "Bazen aynı dönüşümü birkaç DataFrame sütununa uygulamak gerekir. Bu işlemi basitleştirmek için paket, bir sütun listesi ve özellik dönüştürücü sınıfı (veya sınıf listesi) kabul eden ve DataFrameMapper tarafından kabul edilebilir bir özellik tanımı üreten **gen_features** işlevi sağlar.\n",
    "\n",
    "İki argüman almaktadır;\n",
    "* columns, değişkenlerimiz liste içerisinde belirtilir.\n",
    "* classes, uygulanacak transformatör liste içerisinde belirtilir."
   ]
  },
  {
   "cell_type": "code",
   "execution_count": 26,
   "metadata": {},
   "outputs": [
    {
     "data": {
      "text/html": [
       "<div>\n",
       "<style scoped>\n",
       "    .dataframe tbody tr th:only-of-type {\n",
       "        vertical-align: middle;\n",
       "    }\n",
       "\n",
       "    .dataframe tbody tr th {\n",
       "        vertical-align: top;\n",
       "    }\n",
       "\n",
       "    .dataframe thead th {\n",
       "        text-align: right;\n",
       "    }\n",
       "</style>\n",
       "<table border=\"1\" class=\"dataframe\">\n",
       "  <thead>\n",
       "    <tr style=\"text-align: right;\">\n",
       "      <th></th>\n",
       "      <th>col1</th>\n",
       "      <th>col2</th>\n",
       "      <th>col3</th>\n",
       "    </tr>\n",
       "  </thead>\n",
       "  <tbody>\n",
       "    <tr>\n",
       "      <th>0</th>\n",
       "      <td>yes</td>\n",
       "      <td>True</td>\n",
       "      <td>one</td>\n",
       "    </tr>\n",
       "    <tr>\n",
       "      <th>1</th>\n",
       "      <td>no</td>\n",
       "      <td>False</td>\n",
       "      <td>two</td>\n",
       "    </tr>\n",
       "    <tr>\n",
       "      <th>2</th>\n",
       "      <td>yes</td>\n",
       "      <td>False</td>\n",
       "      <td>three</td>\n",
       "    </tr>\n",
       "  </tbody>\n",
       "</table>\n",
       "</div>"
      ],
      "text/plain": [
       "  col1   col2   col3\n",
       "0  yes   True    one\n",
       "1   no  False    two\n",
       "2  yes  False  three"
      ]
     },
     "execution_count": 26,
     "metadata": {},
     "output_type": "execute_result"
    }
   ],
   "source": [
    "from sklearn_pandas import gen_features\n",
    "from sklearn.preprocessing import LabelEncoder\n",
    "\n",
    "feature_def = gen_features(\n",
    "     columns=['col1', 'col2', 'col3'],\n",
    "     classes=[LabelEncoder]\n",
    " )\n",
    "\n",
    "mapper5 = DataFrameMapper(feature_def , df_out=True)\n",
    "\n",
    "data5 = pd.DataFrame({\n",
    "     'col1': ['yes', 'no', 'yes'],\n",
    "     'col2': [True, False, False],\n",
    "     'col3': ['one', 'two', 'three']\n",
    "})\n",
    "data5"
   ]
  },
  {
   "cell_type": "code",
   "execution_count": 15,
   "metadata": {},
   "outputs": [
    {
     "data": {
      "text/html": [
       "<div>\n",
       "<style scoped>\n",
       "    .dataframe tbody tr th:only-of-type {\n",
       "        vertical-align: middle;\n",
       "    }\n",
       "\n",
       "    .dataframe tbody tr th {\n",
       "        vertical-align: top;\n",
       "    }\n",
       "\n",
       "    .dataframe thead th {\n",
       "        text-align: right;\n",
       "    }\n",
       "</style>\n",
       "<table border=\"1\" class=\"dataframe\">\n",
       "  <thead>\n",
       "    <tr style=\"text-align: right;\">\n",
       "      <th></th>\n",
       "      <th>col1</th>\n",
       "      <th>col2</th>\n",
       "      <th>col3</th>\n",
       "    </tr>\n",
       "  </thead>\n",
       "  <tbody>\n",
       "    <tr>\n",
       "      <th>0</th>\n",
       "      <td>1</td>\n",
       "      <td>1</td>\n",
       "      <td>0</td>\n",
       "    </tr>\n",
       "    <tr>\n",
       "      <th>1</th>\n",
       "      <td>0</td>\n",
       "      <td>0</td>\n",
       "      <td>2</td>\n",
       "    </tr>\n",
       "    <tr>\n",
       "      <th>2</th>\n",
       "      <td>1</td>\n",
       "      <td>0</td>\n",
       "      <td>1</td>\n",
       "    </tr>\n",
       "  </tbody>\n",
       "</table>\n",
       "</div>"
      ],
      "text/plain": [
       "   col1  col2  col3\n",
       "0     1     1     0\n",
       "1     0     0     2\n",
       "2     1     0     1"
      ]
     },
     "execution_count": 15,
     "metadata": {},
     "output_type": "execute_result"
    }
   ],
   "source": [
    "mapper5.fit_transform(data5)"
   ]
  },
  {
   "cell_type": "markdown",
   "metadata": {},
   "source": [
    "Buraya kadarki süreçte sklearn_pandas paketinin içerisinde bulunan ``DataFrameMapper`` işlevi üzerinde durmuş olduk fakat sadece bunun ile kalmamaktadır.Sklearn kütüphanesi içerisinde bulunan SimpleImputer gibi sklearn_pandas içerisinde de eksik değerleri doldurabileceğimiz veya dönüştürme işlemlerini gerçekleştirebileceğimiz işlevler bulunmaktadır.\n",
    "\n",
    "Şimdi bu zamana kadar gerçekleştirdiğimiz işlemleri gerçek bir veri seti üzerinde deneyelim.270K kullanıcı tarafından derecelendirilen 45K film içeren Kaggle'ın “Film Veri Kümesini” kullanacağım. Veri setini [buradan](https://www.kaggle.com/rounakbanik/the-movies-dataset#ratings.csv) indirebilirsiniz.\n",
    "\n",
    "\n"
   ]
  },
  {
   "cell_type": "code",
   "execution_count": 16,
   "metadata": {},
   "outputs": [],
   "source": [
    "import pandas as pd\n",
    "import numpy as np \n",
    "from sklearn.preprocessing import StandardScaler , LabelEncoder\n",
    "from sklearn.impute import SimpleImputer\n",
    "from sklearn_pandas import gen_features , DataFrameMapper\n",
    "\n",
    "def organise_dataset(path):\n",
    "    dataset = pd.read_csv(path)\n",
    "\n",
    "    dataset.rename(columns={'id': 'movieId'}, inplace=True)\n",
    "\n",
    "    dataset['movieId'] = dataset['movieId'].apply(lambda x: x if x.isdigit() else 999999999)\n",
    "    dataset['budget'] = dataset['budget'].apply(lambda x: x if x.isdigit() else 0)\n",
    "    dataset['movieId'] = dataset['movieId'].astype('int64')\n",
    "\n",
    "    dataset = dataset.drop(['overview','homepage','original_title','imdb_id', 'belongs_to_collection', 'genres','poster_path', 'production_companies','production_countries','spoken_languages', 'tagline'], axis=1)\n",
    "    col_cat_list = list( dataset.select_dtypes(exclude=np.number) )\n",
    "    col_num_list = list( dataset.select_dtypes(include=np.number) )\n",
    "    col_none = ['movieId']\n",
    "\n",
    "    num_cols = ['budget', 'popularity']\n",
    "    [ col_cat_list.remove(x) for x in num_cols ]\n",
    "    [ col_num_list.append(x) for x in num_cols ]\n",
    "    col_cat_list.remove('release_date')\n",
    "    col_num_list.remove('movieId')\n",
    "\n",
    "    dataset[col_cat_list] = dataset[col_cat_list].astype('category')\n",
    "    # dataset[col_num_list] = dataset[col_num_list].astype('float64', errors='coerce')\n",
    "    dataset['budget'] = pd.to_numeric(dataset['budget'],errors=\"coerce\")\n",
    "    dataset['popularity'] = pd.to_numeric(dataset['popularity'],errors=\"coerce\")\n",
    "\n",
    "    # Convert to list of lists\n",
    "    col_categorical = [ [x] for x in col_cat_list ]\n",
    "    col_numerical   = [ [x] for x in col_num_list ]\n",
    "    col_date = ['release_date']\n",
    "\n",
    "    dataset['release_date'] = pd.to_datetime(dataset['release_date'], errors=\"coerce\")\n",
    "\n",
    "    return dataset , col_categorical , col_numerical , col_date, col_none\n",
    "\n",
    "movies , col_categorical , col_numerical , col_date , col_none = organise_dataset(\"movies_metadata.csv\")"
   ]
  },
  {
   "cell_type": "markdown",
   "metadata": {},
   "source": [
    "**Veri setimiz üzerinde ön işleme adımı gerçekleştirmeden önce düzenlemeler gerçekleştirilmiştir.**\n",
    "* Veri tipi uyumsuzluğunun giderilmesi.Bazı değişkenler sayısal değerler olmasına rağmen kategorik tipinde gözükmekteydiler.\n",
    "* Ön işleme adımında kullanmayacağımız değişkenlerin kaldırılması\n",
    "* Değişkenlerin liste halinde çekilmesidir.\n"
   ]
  },
  {
   "cell_type": "code",
   "execution_count": 17,
   "metadata": {},
   "outputs": [
    {
     "data": {
      "text/html": [
       "<div>\n",
       "<style scoped>\n",
       "    .dataframe tbody tr th:only-of-type {\n",
       "        vertical-align: middle;\n",
       "    }\n",
       "\n",
       "    .dataframe tbody tr th {\n",
       "        vertical-align: top;\n",
       "    }\n",
       "\n",
       "    .dataframe thead th {\n",
       "        text-align: right;\n",
       "    }\n",
       "</style>\n",
       "<table border=\"1\" class=\"dataframe\">\n",
       "  <thead>\n",
       "    <tr style=\"text-align: right;\">\n",
       "      <th></th>\n",
       "      <th>missing_values</th>\n",
       "    </tr>\n",
       "  </thead>\n",
       "  <tbody>\n",
       "    <tr>\n",
       "      <th>adult</th>\n",
       "      <td>0</td>\n",
       "    </tr>\n",
       "    <tr>\n",
       "      <th>budget</th>\n",
       "      <td>0</td>\n",
       "    </tr>\n",
       "    <tr>\n",
       "      <th>movieId</th>\n",
       "      <td>0</td>\n",
       "    </tr>\n",
       "    <tr>\n",
       "      <th>popularity</th>\n",
       "      <td>6</td>\n",
       "    </tr>\n",
       "    <tr>\n",
       "      <th>revenue</th>\n",
       "      <td>6</td>\n",
       "    </tr>\n",
       "    <tr>\n",
       "      <th>title</th>\n",
       "      <td>6</td>\n",
       "    </tr>\n",
       "    <tr>\n",
       "      <th>video</th>\n",
       "      <td>6</td>\n",
       "    </tr>\n",
       "    <tr>\n",
       "      <th>vote_average</th>\n",
       "      <td>6</td>\n",
       "    </tr>\n",
       "    <tr>\n",
       "      <th>vote_count</th>\n",
       "      <td>6</td>\n",
       "    </tr>\n",
       "    <tr>\n",
       "      <th>original_language</th>\n",
       "      <td>11</td>\n",
       "    </tr>\n",
       "    <tr>\n",
       "      <th>status</th>\n",
       "      <td>87</td>\n",
       "    </tr>\n",
       "    <tr>\n",
       "      <th>release_date</th>\n",
       "      <td>90</td>\n",
       "    </tr>\n",
       "    <tr>\n",
       "      <th>runtime</th>\n",
       "      <td>263</td>\n",
       "    </tr>\n",
       "  </tbody>\n",
       "</table>\n",
       "</div>"
      ],
      "text/plain": [
       "                   missing_values\n",
       "adult                           0\n",
       "budget                          0\n",
       "movieId                         0\n",
       "popularity                      6\n",
       "revenue                         6\n",
       "title                           6\n",
       "video                           6\n",
       "vote_average                    6\n",
       "vote_count                      6\n",
       "original_language              11\n",
       "status                         87\n",
       "release_date                   90\n",
       "runtime                       263"
      ]
     },
     "execution_count": 17,
     "metadata": {},
     "output_type": "execute_result"
    }
   ],
   "source": [
    "pd.DataFrame(movies.isnull().sum().sort_values() , columns=['missing_values'])"
   ]
  },
  {
   "cell_type": "code",
   "execution_count": 18,
   "metadata": {},
   "outputs": [],
   "source": [
    "from sklearn.base import TransformerMixin\n",
    "\n",
    "class DateEncoder(TransformerMixin):\n",
    "      def fit(self, X, y=None):\n",
    "        return self\n",
    "\n",
    "      def transform(self, X):\n",
    "        X = pd.to_datetime(movies['release_date'])\n",
    "        dt = X.dt\n",
    "        return pd.concat([dt.year, dt.month, dt.day],  axis=1)"
   ]
  },
  {
   "cell_type": "markdown",
   "metadata": {},
   "source": [
    "Tarih değerlerini tutan ``release_date`` değişkenimizi yıl , ay ve gün formatına dönüştürecek olan sınıf yapısı tanımlanmıştır."
   ]
  },
  {
   "cell_type": "markdown",
   "metadata": {},
   "source": [
    "**Veri setimiz için ön işleme adımlarına geçebiliriz;**\n",
    "\n",
    "* İlk olarak yapacağımız ``release_date`` değişkenini Datetime formatına getirmelidir.Yukarıda bunun için bir transformatör oluşturup ardından DateTimeMapper üzerinden işlemi gerçekleştirebiliriz.\n",
    "\n",
    "* Eksik değerlerimizi doldurduktan sonra veri setimizi ölçeklendirme işlemi gerçekleştirebiliriz.Kullanacağımız algoritmalar KNN gibi mesafe dayalı algoritmalar ise veri setimizi ölçeklendirmek çok işimize yarayacaktır.\n",
    "* Kategorik değişkenler üzerinde eksik değer doldurma ve encoding işlemi gerçekleştireceğiz."
   ]
  },
  {
   "cell_type": "code",
   "execution_count": 19,
   "metadata": {},
   "outputs": [],
   "source": [
    "classes_categorical_preprocessing = [ {'class':SimpleImputer, 'strategy' : 'most_frequent'}, LabelEncoder]\n",
    "classes_numerical_preprocessing = [ {'class':SimpleImputer, 'strategy' : 'median'}, StandardScaler]\n",
    "classes_date_preprocessing = [DateEncoder]\n",
    "classes_none_preprocessing = [None]"
   ]
  },
  {
   "cell_type": "markdown",
   "metadata": {},
   "source": [
    "Uygulacağımız işlemleri liste içerisinde belirttik.``gen_features`` birden fazla değişkene birden fazla işlem uygulama imkanı vermektedir.\n",
    "\n",
    "- **movieId** değişkenimiz üzerinde herhangi bir ön işleme gerçekleştirmek istemediğimizden **None** değerine sahip bir değişken tanımlanmıştır.\n"
   ]
  },
  {
   "cell_type": "code",
   "execution_count": 20,
   "metadata": {},
   "outputs": [],
   "source": [
    "# Main Gen-Features\n",
    "feature_gen = gen_features(columns = [] , classes = [])\n",
    "\n",
    "# Categorical Variables\n",
    "feature_def_categorical = gen_features(\n",
    "    columns = col_categorical\n",
    "    , classes = classes_categorical_preprocessing\n",
    ")\n",
    "\n",
    "# Numerical Variables\n",
    "feature_def_numerical = gen_features(\n",
    "    columns = col_numerical\n",
    "    , classes = classes_numerical_preprocessing\n",
    ")\n",
    "\n",
    "# Date Variables\n",
    "feature_def_date = gen_features(\n",
    "    columns = col_date\n",
    "    , classes = classes_date_preprocessing\n",
    ")\n",
    "\n",
    "# Not Apply Variables\n",
    "feature_def_none = gen_features(\n",
    "    columns = col_none\n",
    "    , classes = classes_none_preprocessing\n",
    ")\n",
    "\n",
    "feature_gen.extend(feature_def_categorical)\n",
    "feature_gen.extend(feature_def_date)\n",
    "feature_gen.extend(feature_def_numerical)\n",
    "feature_gen.extend(feature_def_none)"
   ]
  },
  {
   "cell_type": "markdown",
   "metadata": {},
   "source": [
    "Veri setimize uygulacağımız gen_features işlevlerini tanımladık.Artık son adımlara yaklaşıyoruz.DateTimeMapper kullanarak bunları veri setinde uygulamak kaldı.\n",
    "> Boş bir gen_features nesnesi oluşturarak üzerinden extend işlemi gerçekleştirdik.Bunun anlamı bütün gen_features birleştir demektir.**extend** yaparken işlemlerin sırasına göre yapılması gerekmektedir."
   ]
  },
  {
   "cell_type": "code",
   "execution_count": 23,
   "metadata": {},
   "outputs": [
    {
     "data": {
      "text/plain": [
       "[(['adult'], [SimpleImputer(strategy='most_frequent'), LabelEncoder()], {}),\n",
       " (['original_language'],\n",
       "  [SimpleImputer(strategy='most_frequent'), LabelEncoder()],\n",
       "  {}),\n",
       " (['status'], [SimpleImputer(strategy='most_frequent'), LabelEncoder()], {}),\n",
       " (['title'], [SimpleImputer(strategy='most_frequent'), LabelEncoder()], {}),\n",
       " (['video'], [SimpleImputer(strategy='most_frequent'), LabelEncoder()], {}),\n",
       " ('release_date', [<__main__.DateEncoder at 0x12607b987c0>], {}),\n",
       " (['revenue'], [SimpleImputer(strategy='median'), StandardScaler()], {}),\n",
       " (['runtime'], [SimpleImputer(strategy='median'), StandardScaler()], {}),\n",
       " (['vote_average'], [SimpleImputer(strategy='median'), StandardScaler()], {}),\n",
       " (['vote_count'], [SimpleImputer(strategy='median'), StandardScaler()], {}),\n",
       " (['budget'], [SimpleImputer(strategy='median'), StandardScaler()], {}),\n",
       " (['popularity'], [SimpleImputer(strategy='median'), StandardScaler()], {}),\n",
       " ('movieId', None, {})]"
      ]
     },
     "execution_count": 23,
     "metadata": {},
     "output_type": "execute_result"
    }
   ],
   "source": [
    "feature_gen"
   ]
  },
  {
   "cell_type": "code",
   "execution_count": 22,
   "metadata": {},
   "outputs": [],
   "source": [
    "final_movies= DataFrameMapper(feature_gen , df_out = True).fit_transform(movies)\n",
    "final_movies.rename(columns = {'release_date_0':'year', 'release_date_1':'month' , 'release_date_2' : 'day'}, inplace = True)"
   ]
  },
  {
   "cell_type": "code",
   "execution_count": 24,
   "metadata": {},
   "outputs": [
    {
     "data": {
      "text/html": [
       "<div>\n",
       "<style scoped>\n",
       "    .dataframe tbody tr th:only-of-type {\n",
       "        vertical-align: middle;\n",
       "    }\n",
       "\n",
       "    .dataframe tbody tr th {\n",
       "        vertical-align: top;\n",
       "    }\n",
       "\n",
       "    .dataframe thead th {\n",
       "        text-align: right;\n",
       "    }\n",
       "</style>\n",
       "<table border=\"1\" class=\"dataframe\">\n",
       "  <thead>\n",
       "    <tr style=\"text-align: right;\">\n",
       "      <th></th>\n",
       "      <th>adult</th>\n",
       "      <th>original_language</th>\n",
       "      <th>status</th>\n",
       "      <th>title</th>\n",
       "      <th>video</th>\n",
       "      <th>year</th>\n",
       "      <th>month</th>\n",
       "      <th>day</th>\n",
       "      <th>revenue</th>\n",
       "      <th>runtime</th>\n",
       "      <th>vote_average</th>\n",
       "      <th>vote_count</th>\n",
       "      <th>budget</th>\n",
       "      <th>popularity</th>\n",
       "      <th>movieId</th>\n",
       "    </tr>\n",
       "  </thead>\n",
       "  <tbody>\n",
       "    <tr>\n",
       "      <th>0</th>\n",
       "      <td>3</td>\n",
       "      <td>20</td>\n",
       "      <td>4</td>\n",
       "      <td>39018</td>\n",
       "      <td>0</td>\n",
       "      <td>1995.0</td>\n",
       "      <td>10.0</td>\n",
       "      <td>30.0</td>\n",
       "      <td>5.632841</td>\n",
       "      <td>-0.342939</td>\n",
       "      <td>1.081946</td>\n",
       "      <td>10.798693</td>\n",
       "      <td>1.479373</td>\n",
       "      <td>3.168317</td>\n",
       "      <td>862</td>\n",
       "    </tr>\n",
       "    <tr>\n",
       "      <th>1</th>\n",
       "      <td>3</td>\n",
       "      <td>20</td>\n",
       "      <td>4</td>\n",
       "      <td>16806</td>\n",
       "      <td>0</td>\n",
       "      <td>1995.0</td>\n",
       "      <td>12.0</td>\n",
       "      <td>15.0</td>\n",
       "      <td>3.911075</td>\n",
       "      <td>0.257643</td>\n",
       "      <td>0.666161</td>\n",
       "      <td>4.688049</td>\n",
       "      <td>3.488165</td>\n",
       "      <td>2.347099</td>\n",
       "      <td>8844</td>\n",
       "    </tr>\n",
       "    <tr>\n",
       "      <th>2</th>\n",
       "      <td>3</td>\n",
       "      <td>20</td>\n",
       "      <td>4</td>\n",
       "      <td>13371</td>\n",
       "      <td>0</td>\n",
       "      <td>1995.0</td>\n",
       "      <td>12.0</td>\n",
       "      <td>22.0</td>\n",
       "      <td>-0.174232</td>\n",
       "      <td>0.179307</td>\n",
       "      <td>0.458269</td>\n",
       "      <td>-0.036404</td>\n",
       "      <td>-0.242450</td>\n",
       "      <td>1.464059</td>\n",
       "      <td>15602</td>\n",
       "    </tr>\n",
       "    <tr>\n",
       "      <th>3</th>\n",
       "      <td>3</td>\n",
       "      <td>20</td>\n",
       "      <td>4</td>\n",
       "      <td>40428</td>\n",
       "      <td>0</td>\n",
       "      <td>1995.0</td>\n",
       "      <td>12.0</td>\n",
       "      <td>22.0</td>\n",
       "      <td>1.091980</td>\n",
       "      <td>0.858225</td>\n",
       "      <td>0.250376</td>\n",
       "      <td>-0.154464</td>\n",
       "      <td>0.675855</td>\n",
       "      <td>0.156246</td>\n",
       "      <td>31357</td>\n",
       "    </tr>\n",
       "    <tr>\n",
       "      <th>4</th>\n",
       "      <td>3</td>\n",
       "      <td>20</td>\n",
       "      <td>4</td>\n",
       "      <td>11199</td>\n",
       "      <td>0</td>\n",
       "      <td>1995.0</td>\n",
       "      <td>2.0</td>\n",
       "      <td>10.0</td>\n",
       "      <td>1.016224</td>\n",
       "      <td>0.309868</td>\n",
       "      <td>0.042484</td>\n",
       "      <td>0.128474</td>\n",
       "      <td>-0.242450</td>\n",
       "      <td>0.910290</td>\n",
       "      <td>11862</td>\n",
       "    </tr>\n",
       "    <tr>\n",
       "      <th>5</th>\n",
       "      <td>3</td>\n",
       "      <td>20</td>\n",
       "      <td>4</td>\n",
       "      <td>13962</td>\n",
       "      <td>0</td>\n",
       "      <td>1995.0</td>\n",
       "      <td>12.0</td>\n",
       "      <td>15.0</td>\n",
       "      <td>2.739562</td>\n",
       "      <td>1.981052</td>\n",
       "      <td>1.081946</td>\n",
       "      <td>3.615327</td>\n",
       "      <td>3.201195</td>\n",
       "      <td>2.498537</td>\n",
       "      <td>949</td>\n",
       "    </tr>\n",
       "    <tr>\n",
       "      <th>6</th>\n",
       "      <td>3</td>\n",
       "      <td>20</td>\n",
       "      <td>4</td>\n",
       "      <td>26420</td>\n",
       "      <td>0</td>\n",
       "      <td>1995.0</td>\n",
       "      <td>12.0</td>\n",
       "      <td>15.0</td>\n",
       "      <td>-0.174232</td>\n",
       "      <td>0.858225</td>\n",
       "      <td>0.302349</td>\n",
       "      <td>0.063337</td>\n",
       "      <td>3.086407</td>\n",
       "      <td>0.625486</td>\n",
       "      <td>11860</td>\n",
       "    </tr>\n",
       "    <tr>\n",
       "      <th>7</th>\n",
       "      <td>3</td>\n",
       "      <td>20</td>\n",
       "      <td>4</td>\n",
       "      <td>38807</td>\n",
       "      <td>0</td>\n",
       "      <td>1995.0</td>\n",
       "      <td>12.0</td>\n",
       "      <td>22.0</td>\n",
       "      <td>-0.174232</td>\n",
       "      <td>0.074858</td>\n",
       "      <td>-0.113435</td>\n",
       "      <td>-0.132073</td>\n",
       "      <td>-0.242450</td>\n",
       "      <td>-0.059964</td>\n",
       "      <td>45325</td>\n",
       "    </tr>\n",
       "    <tr>\n",
       "      <th>8</th>\n",
       "      <td>3</td>\n",
       "      <td>20</td>\n",
       "      <td>4</td>\n",
       "      <td>29316</td>\n",
       "      <td>0</td>\n",
       "      <td>1995.0</td>\n",
       "      <td>12.0</td>\n",
       "      <td>22.0</td>\n",
       "      <td>0.826122</td>\n",
       "      <td>0.309868</td>\n",
       "      <td>-0.061462</td>\n",
       "      <td>0.130509</td>\n",
       "      <td>1.766343</td>\n",
       "      <td>0.384737</td>\n",
       "      <td>9091</td>\n",
       "    </tr>\n",
       "    <tr>\n",
       "      <th>9</th>\n",
       "      <td>3</td>\n",
       "      <td>20</td>\n",
       "      <td>4</td>\n",
       "      <td>13044</td>\n",
       "      <td>0</td>\n",
       "      <td>1995.0</td>\n",
       "      <td>11.0</td>\n",
       "      <td>16.0</td>\n",
       "      <td>5.300790</td>\n",
       "      <td>0.936562</td>\n",
       "      <td>0.510242</td>\n",
       "      <td>2.206744</td>\n",
       "      <td>3.086407</td>\n",
       "      <td>1.959171</td>\n",
       "      <td>710</td>\n",
       "    </tr>\n",
       "  </tbody>\n",
       "</table>\n",
       "</div>"
      ],
      "text/plain": [
       "   adult  original_language  status  title  video    year  month   day  \\\n",
       "0      3                 20       4  39018      0  1995.0   10.0  30.0   \n",
       "1      3                 20       4  16806      0  1995.0   12.0  15.0   \n",
       "2      3                 20       4  13371      0  1995.0   12.0  22.0   \n",
       "3      3                 20       4  40428      0  1995.0   12.0  22.0   \n",
       "4      3                 20       4  11199      0  1995.0    2.0  10.0   \n",
       "5      3                 20       4  13962      0  1995.0   12.0  15.0   \n",
       "6      3                 20       4  26420      0  1995.0   12.0  15.0   \n",
       "7      3                 20       4  38807      0  1995.0   12.0  22.0   \n",
       "8      3                 20       4  29316      0  1995.0   12.0  22.0   \n",
       "9      3                 20       4  13044      0  1995.0   11.0  16.0   \n",
       "\n",
       "    revenue   runtime  vote_average  vote_count    budget  popularity  movieId  \n",
       "0  5.632841 -0.342939      1.081946   10.798693  1.479373    3.168317      862  \n",
       "1  3.911075  0.257643      0.666161    4.688049  3.488165    2.347099     8844  \n",
       "2 -0.174232  0.179307      0.458269   -0.036404 -0.242450    1.464059    15602  \n",
       "3  1.091980  0.858225      0.250376   -0.154464  0.675855    0.156246    31357  \n",
       "4  1.016224  0.309868      0.042484    0.128474 -0.242450    0.910290    11862  \n",
       "5  2.739562  1.981052      1.081946    3.615327  3.201195    2.498537      949  \n",
       "6 -0.174232  0.858225      0.302349    0.063337  3.086407    0.625486    11860  \n",
       "7 -0.174232  0.074858     -0.113435   -0.132073 -0.242450   -0.059964    45325  \n",
       "8  0.826122  0.309868     -0.061462    0.130509  1.766343    0.384737     9091  \n",
       "9  5.300790  0.936562      0.510242    2.206744  3.086407    1.959171      710  "
      ]
     },
     "execution_count": 24,
     "metadata": {},
     "output_type": "execute_result"
    }
   ],
   "source": [
    "final_movies.head(10)"
   ]
  },
  {
   "cell_type": "markdown",
   "metadata": {},
   "source": [
    "Sklearn-pandas paketini kullanarak çok daha pratik bir şekilde veri ön işleme adımlarını gerçekleştirmiş olduk."
   ]
  }
 ],
 "metadata": {
  "kernelspec": {
   "display_name": "Python 3 (ipykernel)",
   "language": "python",
   "name": "python3"
  },
  "language_info": {
   "codemirror_mode": {
    "name": "ipython",
    "version": 3
   },
   "file_extension": ".py",
   "mimetype": "text/x-python",
   "name": "python",
   "nbconvert_exporter": "python",
   "pygments_lexer": "ipython3",
   "version": "3.8.10"
  },
  "vscode": {
   "interpreter": {
    "hash": "282fb1d08e99bc60089dcb7f317431b47464b31e787b40b75aed7a46a12455fb"
   }
  }
 },
 "nbformat": 4,
 "nbformat_minor": 2
}
